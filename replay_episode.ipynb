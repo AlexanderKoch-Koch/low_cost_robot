{
 "cells": [
  {
   "cell_type": "code",
   "execution_count": null,
   "metadata": {},
   "outputs": [],
   "source": [
    "import os\n",
    "import h5py\n",
    "import mediapy as media\n",
    "import matplotlib.pyplot as plt\n",
    "\n",
    "def load_hdf5(dataset_path):\n",
    "    if not os.path.isfile(dataset_path):\n",
    "        print(f'Dataset does not exist at \\n{dataset_path}\\n')\n",
    "        exit()\n",
    "\n",
    "    with h5py.File(dataset_path, 'r') as root:\n",
    "        qpos = root['/observations/qpos'][()]\n",
    "        qvel = root['/observations/qvel'][()]\n",
    "        image_dict = dict()\n",
    "        for cam_name in root[f'/observations/images/'].keys():\n",
    "            image_dict[cam_name] = root[f'/observations/images/{cam_name}'][()]\n",
    "        action = root['/action'][()]\n",
    "\n",
    "    return qpos, qvel, action, image_dict"
   ]
  },
  {
   "cell_type": "code",
   "execution_count": null,
   "metadata": {},
   "outputs": [],
   "source": [
    "# play cam video\n",
    "data_file = 'data/pick_cube/episode_0.hdf5'\n",
    "qpos, qvel, action, image_dict = load_hdf5(dataset_path=data_file)\n",
    "for cam_name, image_list in image_dict.items():\n",
    "    media.show_video(image_list, fps=120)"
   ]
  },
  {
   "cell_type": "code",
   "execution_count": null,
   "metadata": {},
   "outputs": [],
   "source": [
    "# plot qpos\n",
    "plt.figure()\n",
    "plt.plot(qpos, label=list(range(1, 6)))\n",
    "plt.xlabel('step')\n",
    "plt.ylabel('angle [rad]')\n",
    "plt.title('joint positions')\n",
    "plt.legend()"
   ]
  }
 ],
 "metadata": {
  "language_info": {
   "name": "python"
  }
 },
 "nbformat": 4,
 "nbformat_minor": 2
}
